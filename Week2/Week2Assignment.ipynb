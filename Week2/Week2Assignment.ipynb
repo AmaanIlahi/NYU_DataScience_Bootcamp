{
 "cells": [
  {
   "cell_type": "markdown",
   "id": "12b428d8-57d9-4b01-96a1-cd4751c38d99",
   "metadata": {},
   "source": [
    "# Week 2 Assignment "
   ]
  },
  {
   "cell_type": "markdown",
   "id": "7a49dd39-680b-40d8-b119-dc5fc684b284",
   "metadata": {},
   "source": [
    "## Part 1 - Numpy"
   ]
  },
  {
   "cell_type": "code",
   "execution_count": 1,
   "id": "0f67b3a9-8ae6-444a-a228-19f98ee13345",
   "metadata": {},
   "outputs": [],
   "source": [
    "import numpy as np"
   ]
  },
  {
   "cell_type": "markdown",
   "id": "61d3ccc8-637d-4be0-be77-d7a8fa3b8c3f",
   "metadata": {},
   "source": [
    "#### 1. Define two custom numpy arrays, say A and B. Generate two new numpy arrays by stacking A and B vertically and horizontally."
   ]
  },
  {
   "cell_type": "code",
   "execution_count": 4,
   "id": "f0b8b53a-7f15-4b38-9ef8-dbd7fb4e6921",
   "metadata": {},
   "outputs": [
    {
     "name": "stdout",
     "output_type": "stream",
     "text": [
      "Vertical Stack:\n",
      " [[ 1  7  3]\n",
      " [ 2  9  6]\n",
      " [10  0  3]\n",
      " [24  1  2]]\n",
      "\n",
      "Horizontal Stack:\n",
      " [[ 1  7  3 10  0  3]\n",
      " [ 2  9  6 24  1  2]]\n"
     ]
    }
   ],
   "source": [
    "A = np.array([[1, 7, 3], [2, 9, 6]])\n",
    "B = np.array([[10, 0, 3], [24, 1, 2]])\n",
    "\n",
    "vertical_stack = np.vstack((A, B))\n",
    "\n",
    "horizontal_stack = np.hstack((A, B))\n",
    "\n",
    "print(\"Vertical Stack:\\n\", vertical_stack)\n",
    "print(\"\\nHorizontal Stack:\\n\", horizontal_stack)"
   ]
  },
  {
   "cell_type": "markdown",
   "id": "a603ea5a-7cae-4003-8a34-b7785350c47a",
   "metadata": {},
   "source": [
    "#### 2. ⁠Find common elements between A and B."
   ]
  },
  {
   "cell_type": "code",
   "execution_count": 5,
   "id": "09516e3a-398f-4c47-9031-f27d4d9c022e",
   "metadata": {},
   "outputs": [
    {
     "name": "stdout",
     "output_type": "stream",
     "text": [
      "\n",
      "Common Elements between A and B: [1 2 3]\n"
     ]
    }
   ],
   "source": [
    "common_elements = np.intersect1d(A, B)\n",
    "print(\"\\nCommon Elements between A and B:\", common_elements)"
   ]
  },
  {
   "cell_type": "markdown",
   "id": "69473293-6578-4a5b-9c7c-32e3b3434772",
   "metadata": {},
   "source": [
    "#### 3.⁠ ⁠Extract all numbers from A which are within a specific range. eg between 5 and 10."
   ]
  },
  {
   "cell_type": "code",
   "execution_count": 6,
   "id": "673da5c6-215f-4544-b16e-d6b1a03dc2e1",
   "metadata": {},
   "outputs": [
    {
     "name": "stdout",
     "output_type": "stream",
     "text": [
      "\n",
      "Elements in A between 5 and 10: [7 9 6]\n"
     ]
    }
   ],
   "source": [
    "filtered_A = A[(A >= 5) & (A <= 10)]\n",
    "print(\"\\nElements in A between 5 and 10:\", filtered_A)"
   ]
  },
  {
   "cell_type": "markdown",
   "id": "83eebde4-2978-49ad-a9a9-26989e9c9bf1",
   "metadata": {},
   "source": [
    "#### 4. ⁠Filter the rows of iris_2d that has petallength (3rd column) > 1.5 and sepallength (1st column) < 5.0"
   ]
  },
  {
   "cell_type": "code",
   "execution_count": 7,
   "id": "6c97ea98-cf6b-4703-b844-4650513c3ade",
   "metadata": {},
   "outputs": [],
   "source": [
    "url = 'https://archive.ics.uci.edu/ml/machine-learning-databases/iris/iris.data'\n",
    "iris_2d = np.genfromtxt(url, delimiter=',', dtype='float', usecols=[0,1,2,3])"
   ]
  },
  {
   "cell_type": "code",
   "execution_count": 8,
   "id": "bbffadc1-8d6c-45ea-b06c-01dda188a8ed",
   "metadata": {},
   "outputs": [
    {
     "name": "stdout",
     "output_type": "stream",
     "text": [
      "\n",
      "Filtered iris_2d rows:\n",
      " [[4.8 3.4 1.6 0.2]\n",
      " [4.8 3.4 1.9 0.2]\n",
      " [4.7 3.2 1.6 0.2]\n",
      " [4.8 3.1 1.6 0.2]\n",
      " [4.9 2.4 3.3 1. ]\n",
      " [4.9 2.5 4.5 1.7]]\n"
     ]
    }
   ],
   "source": [
    "filtered_iris = iris_2d[(iris_2d[:, 2] > 1.5) & (iris_2d[:, 0] < 5.0)]\n",
    "print(\"\\nFiltered iris_2d rows:\\n\", filtered_iris)"
   ]
  },
  {
   "cell_type": "code",
   "execution_count": null,
   "id": "4f4970db-4479-4050-9992-e4d39c1d4059",
   "metadata": {},
   "outputs": [],
   "source": []
  },
  {
   "cell_type": "markdown",
   "id": "fa1ddd78-166b-4625-b33a-c667524ba6cd",
   "metadata": {},
   "source": [
    "## Part 2 - Pandas"
   ]
  },
  {
   "cell_type": "code",
   "execution_count": 9,
   "id": "d790f7a0-9822-49fc-a187-970e8fbcba1e",
   "metadata": {},
   "outputs": [],
   "source": [
    "import pandas as pd"
   ]
  },
  {
   "cell_type": "markdown",
   "id": "736a130f-cb0c-4e13-9582-af61ed6b8197",
   "metadata": {},
   "source": [
    "#### 1. From df filter the 'Manufacturer', 'Model' and 'Type' for every 20th row starting from 1st (row 0)."
   ]
  },
  {
   "cell_type": "code",
   "execution_count": 10,
   "id": "e0e4000d-8b9b-4c5b-87bc-6733a86d214d",
   "metadata": {},
   "outputs": [
    {
     "name": "stdout",
     "output_type": "stream",
     "text": [
      "\n",
      "Filtered DataFrame (Every 20th Row):\n",
      "    Manufacturer    Model     Type\n",
      "0         Acura  Integra    Small\n",
      "20     Chrysler  LeBaron  Compact\n",
      "40        Honda  Prelude   Sporty\n",
      "60      Mercury   Cougar  Midsize\n",
      "80       Subaru   Loyale    Small\n"
     ]
    }
   ],
   "source": [
    "df = pd.read_csv('https://raw.githubusercontent.com/selva86/datasets/master/Cars93_miss.csv')\n",
    "filtered_df = df.iloc[::20, :][['Manufacturer', 'Model', 'Type']]\n",
    "print(\"\\nFiltered DataFrame (Every 20th Row):\\n\", filtered_df)"
   ]
  },
  {
   "cell_type": "markdown",
   "id": "74c1576d-79a9-4af6-9936-634758ab3882",
   "metadata": {},
   "source": [
    "#### 2. Replace missing values in Min.Price and Max.Price columns with their respective mean."
   ]
  },
  {
   "cell_type": "code",
   "execution_count": 12,
   "id": "3f458cf1-9675-4c99-b73c-3f1a1ffacb17",
   "metadata": {},
   "outputs": [],
   "source": [
    "df['Min.Price'] = df['Min.Price'].fillna(df['Min.Price'].mean())\n",
    "df['Max.Price'] = df['Max.Price'].fillna(df['Max.Price'].mean())\n"
   ]
  },
  {
   "cell_type": "markdown",
   "id": "f9066bb7-90fd-4ee2-8f72-7211520cf217",
   "metadata": {},
   "source": [
    "#### 3. How to get the rows of a dataframe with row sum > 100?"
   ]
  },
  {
   "cell_type": "code",
   "execution_count": 20,
   "id": "bf722ffe-fbfb-49fc-9533-3f67ac04b0e6",
   "metadata": {},
   "outputs": [
    {
     "name": "stdout",
     "output_type": "stream",
     "text": [
      "\n",
      "Rows where the total sum per row is greater than 100:\n",
      "      0   1   2   3\n",
      "0   24  39  21  36\n",
      "1   25  39  30  25\n",
      "7   33  37  28  13\n",
      "9   25  26  16  34\n",
      "10  28  38  19  27\n",
      "14  39  13  13  37\n"
     ]
    }
   ],
   "source": [
    "df_random = pd.DataFrame(np.random.randint(10, 40, size=(15, 4)))\n",
    "filtered_rows = df_random[df_random.sum(axis=1) > 100]\n",
    "\n",
    "print(\"\\nRows where the total sum per row is greater than 100:\\n\", filtered_rows)"
   ]
  },
  {
   "cell_type": "code",
   "execution_count": null,
   "id": "90c9ce54-e9d3-4b7d-83e8-16e2c451dc0c",
   "metadata": {},
   "outputs": [],
   "source": []
  }
 ],
 "metadata": {
  "kernelspec": {
   "display_name": "Python 3 (ipykernel)",
   "language": "python",
   "name": "python3"
  },
  "language_info": {
   "codemirror_mode": {
    "name": "ipython",
    "version": 3
   },
   "file_extension": ".py",
   "mimetype": "text/x-python",
   "name": "python",
   "nbconvert_exporter": "python",
   "pygments_lexer": "ipython3",
   "version": "3.9.0"
  }
 },
 "nbformat": 4,
 "nbformat_minor": 5
}
