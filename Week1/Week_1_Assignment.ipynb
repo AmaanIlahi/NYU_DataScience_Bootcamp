{
 "cells": [
  {
   "cell_type": "markdown",
   "id": "dabcd24d-63d9-4d0c-91ef-240eae2d5af4",
   "metadata": {},
   "source": [
    "## 1. ⁠Display Fibonacci Series upto 10 terms"
   ]
  },
  {
   "cell_type": "code",
   "execution_count": 5,
   "id": "2a074a30-71a8-417a-93ca-81c2776032ef",
   "metadata": {},
   "outputs": [
    {
     "name": "stdout",
     "output_type": "stream",
     "text": [
      "Fibonacci series :\n",
      "[0, 1, 1, 2, 3, 5, 8, 13, 21, 34]\n"
     ]
    }
   ],
   "source": [
    "def fibonacci(n):\n",
    "\n",
    "    sequence = [0,1]\n",
    "    count = 2\n",
    "    while count < n:\n",
    "        sequence.append(sequence[-1]+sequence[-2])\n",
    "        count+=1\n",
    "\n",
    "    print(\"Fibonacci series :\")\n",
    "    print(sequence)        \n",
    "    \n",
    "fibonacci(10)"
   ]
  },
  {
   "cell_type": "markdown",
   "id": "fd780ad5-4183-40e8-a28e-4eb02113bf16",
   "metadata": {},
   "source": [
    "## 2. Display numbers at the odd indices of a list"
   ]
  },
  {
   "cell_type": "code",
   "execution_count": 6,
   "id": "8fa4d77e-e1dc-4c01-9385-cbe4de743a50",
   "metadata": {},
   "outputs": [
    {
     "name": "stdout",
     "output_type": "stream",
     "text": [
      "Index 1: 1\n",
      "Index 3: 2\n",
      "Index 5: 5\n",
      "Index 7: 13\n",
      "Index 9: 34\n"
     ]
    }
   ],
   "source": [
    "sampleList = [0, 1, 1, 2, 3, 5, 8, 13, 21, 34]\n",
    "\n",
    "for i in range(1, len(sampleList), 2):\n",
    "    print(f\"Index {i}: {sampleList[i]}\")"
   ]
  },
  {
   "cell_type": "markdown",
   "id": "ee1cf6ce-4688-4a0f-948e-e3392a8a5ac0",
   "metadata": {},
   "source": [
    "## 3. Count the number of different words in this text"
   ]
  },
  {
   "cell_type": "code",
   "execution_count": 8,
   "id": "91a0f528-cbed-4e82-b020-ce7c41175df5",
   "metadata": {},
   "outputs": [
    {
     "name": "stdout",
     "output_type": "stream",
     "text": [
      "Unique words :  15\n"
     ]
    }
   ],
   "source": [
    "TestString = \"I have provided this text to provide tips on creating interesting paragraphs. First, start with a clear topic sentence that introduces the main idea. Then, support the topic sentence with specific details, examples, and evidence. Vary the sentence length and structure to keep the reader engaged. Finally, end with a strong concluding sentence that summarizes the main points. Remember, practice makes perfect!\"\n",
    "\n",
    "words = TestString.split()\n",
    "\n",
    "counter = 0\n",
    "uniqueWords = {}\n",
    "for word in words:\n",
    "    if word in uniqueWords:\n",
    "        counter += 1\n",
    "    else:\n",
    "        uniqueWords[word] = 1\n",
    "\n",
    "print(\"Unique words : \", counter)"
   ]
  },
  {
   "cell_type": "markdown",
   "id": "45ad1953-4173-44f0-b1b0-25f9a2eb639f",
   "metadata": {},
   "source": [
    "## 4. Write a function to count number of vowels in the word"
   ]
  },
  {
   "cell_type": "code",
   "execution_count": 12,
   "id": "7732daba-c37b-40f3-b311-5dacf2c415a1",
   "metadata": {},
   "outputs": [
    {
     "name": "stdout",
     "output_type": "stream",
     "text": [
      "Number of words in the word skibidirizz are :  4\n"
     ]
    }
   ],
   "source": [
    "def count_vowels(word):\n",
    "    counter = 0\n",
    "    for ch in word:\n",
    "        if ch in ('a','e','i','o','u'):\n",
    "            counter += 1\n",
    "    print(\"Number of words in the word\", word, \"are : \", counter)\n",
    "\n",
    "count_vowels(\"skibidirizz\")"
   ]
  },
  {
   "cell_type": "markdown",
   "id": "07a2e51e-d1df-425d-9c5c-8e161e513c7f",
   "metadata": {},
   "source": [
    "## 5. Print each word in all caps"
   ]
  },
  {
   "cell_type": "code",
   "execution_count": 13,
   "id": "34058228-001f-48e8-97d0-7be02e410914",
   "metadata": {},
   "outputs": [
    {
     "name": "stdout",
     "output_type": "stream",
     "text": [
      "DOG\n",
      "CAT\n",
      "ELEPHANT\n",
      "TIGER\n",
      "GIRAFFE\n"
     ]
    }
   ],
   "source": [
    "myList = [\"dog\", \"cat\", \"elephant\", \"tiger\", \"giraffe\"]\n",
    "\n",
    "for word in myList: \n",
    "    print(word.upper())"
   ]
  },
  {
   "cell_type": "markdown",
   "id": "4d32af28-30ba-479b-9dcc-e0c8e716906a",
   "metadata": {},
   "source": [
    "## 6. Program that iterates from 1 to 20, printing each number and whether it's odd or even."
   ]
  },
  {
   "cell_type": "code",
   "execution_count": 17,
   "id": "ea9220a1-4dfe-4d5b-93b2-af7ca712f70e",
   "metadata": {},
   "outputs": [
    {
     "name": "stdout",
     "output_type": "stream",
     "text": [
      "1  Odd number\n",
      "2  Even number\n",
      "3  Odd number\n",
      "4  Even number\n",
      "5  Odd number\n",
      "6  Even number\n",
      "7  Odd number\n",
      "8  Even number\n",
      "9  Odd number\n",
      "10  Even number\n",
      "11  Odd number\n",
      "12  Even number\n",
      "13  Odd number\n",
      "14  Even number\n",
      "15  Odd number\n",
      "16  Even number\n",
      "17  Odd number\n",
      "18  Even number\n",
      "19  Odd number\n",
      "20  Even number\n"
     ]
    }
   ],
   "source": [
    "for no in range(1, 20+1, 1):\n",
    "    if no%2:\n",
    "        print(no, \" Odd number\")\n",
    "    else:\n",
    "        print(no, \" Even number\")"
   ]
  },
  {
   "cell_type": "markdown",
   "id": "da2e825f-dcec-4d64-be4c-9ca702b470e8",
   "metadata": {},
   "source": [
    "## 7. Function that takes two integers as input from the user and returns their sum"
   ]
  },
  {
   "cell_type": "code",
   "execution_count": 23,
   "id": "db1049a6-42da-4349-8850-1c4168e28aab",
   "metadata": {},
   "outputs": [
    {
     "name": "stdin",
     "output_type": "stream",
     "text": [
      "Enter the first integer:  25\n",
      "Enter the second integer:  69\n"
     ]
    },
    {
     "name": "stdout",
     "output_type": "stream",
     "text": [
      "Sum:  94\n"
     ]
    }
   ],
   "source": [
    "def sum_of_integers(a, b):\n",
    "    print(\"Sum: \", a + b)\n",
    "\n",
    "a = int(input(\"Enter the first integer: \"))\n",
    "b = int(input(\"Enter the second integer: \"))\n",
    "    \n",
    "sum_of_integers(a, b)\n"
   ]
  },
  {
   "cell_type": "code",
   "execution_count": null,
   "id": "18539d4f-39fc-409e-b96f-c32c7ffc480c",
   "metadata": {},
   "outputs": [],
   "source": []
  }
 ],
 "metadata": {
  "kernelspec": {
   "display_name": "Python 3 (ipykernel)",
   "language": "python",
   "name": "python3"
  },
  "language_info": {
   "codemirror_mode": {
    "name": "ipython",
    "version": 3
   },
   "file_extension": ".py",
   "mimetype": "text/x-python",
   "name": "python",
   "nbconvert_exporter": "python",
   "pygments_lexer": "ipython3",
   "version": "3.9.0"
  }
 },
 "nbformat": 4,
 "nbformat_minor": 5
}
